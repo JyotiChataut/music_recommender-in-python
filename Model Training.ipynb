{
 "cells": [
  {
   "cell_type": "code",
   "execution_count": 1,
   "id": "2982a4c3-1ae0-4318-ac21-c9c3c637598f",
   "metadata": {},
   "outputs": [],
   "source": [
    "import pandas as pd\n",
    "\n"
   ]
  },
  {
   "cell_type": "code",
   "execution_count": 2,
   "id": "0f5253a3-d3a2-4c00-9a19-d1d405723e9d",
   "metadata": {},
   "outputs": [],
   "source": [
    "df = pd.read_csv(\"spotify_millsongdata.csv\")"
   ]
  },
  {
   "cell_type": "code",
   "execution_count": 3,
   "id": "6b206da4-4796-49a0-a4ef-69f8a14fbb31",
   "metadata": {},
   "outputs": [
    {
     "data": {
      "text/html": [
       "<div>\n",
       "<style scoped>\n",
       "    .dataframe tbody tr th:only-of-type {\n",
       "        vertical-align: middle;\n",
       "    }\n",
       "\n",
       "    .dataframe tbody tr th {\n",
       "        vertical-align: top;\n",
       "    }\n",
       "\n",
       "    .dataframe thead th {\n",
       "        text-align: right;\n",
       "    }\n",
       "</style>\n",
       "<table border=\"1\" class=\"dataframe\">\n",
       "  <thead>\n",
       "    <tr style=\"text-align: right;\">\n",
       "      <th></th>\n",
       "      <th>artist</th>\n",
       "      <th>song</th>\n",
       "      <th>link</th>\n",
       "      <th>text</th>\n",
       "    </tr>\n",
       "  </thead>\n",
       "  <tbody>\n",
       "    <tr>\n",
       "      <th>0</th>\n",
       "      <td>ABBA</td>\n",
       "      <td>Ahe's My Kind Of Girl</td>\n",
       "      <td>/a/abba/ahes+my+kind+of+girl_20598417.html</td>\n",
       "      <td>Look at her face, it's a wonderful face  \\r\\nA...</td>\n",
       "    </tr>\n",
       "    <tr>\n",
       "      <th>1</th>\n",
       "      <td>ABBA</td>\n",
       "      <td>Andante, Andante</td>\n",
       "      <td>/a/abba/andante+andante_20002708.html</td>\n",
       "      <td>Take it easy with me, please  \\r\\nTouch me gen...</td>\n",
       "    </tr>\n",
       "    <tr>\n",
       "      <th>2</th>\n",
       "      <td>ABBA</td>\n",
       "      <td>As Good As New</td>\n",
       "      <td>/a/abba/as+good+as+new_20003033.html</td>\n",
       "      <td>I'll never know why I had to go  \\r\\nWhy I had...</td>\n",
       "    </tr>\n",
       "    <tr>\n",
       "      <th>3</th>\n",
       "      <td>ABBA</td>\n",
       "      <td>Bang</td>\n",
       "      <td>/a/abba/bang_20598415.html</td>\n",
       "      <td>Making somebody happy is a question of give an...</td>\n",
       "    </tr>\n",
       "    <tr>\n",
       "      <th>4</th>\n",
       "      <td>ABBA</td>\n",
       "      <td>Bang-A-Boomerang</td>\n",
       "      <td>/a/abba/bang+a+boomerang_20002668.html</td>\n",
       "      <td>Making somebody happy is a question of give an...</td>\n",
       "    </tr>\n",
       "  </tbody>\n",
       "</table>\n",
       "</div>"
      ],
      "text/plain": [
       "  artist                   song                                        link  \\\n",
       "0   ABBA  Ahe's My Kind Of Girl  /a/abba/ahes+my+kind+of+girl_20598417.html   \n",
       "1   ABBA       Andante, Andante       /a/abba/andante+andante_20002708.html   \n",
       "2   ABBA         As Good As New        /a/abba/as+good+as+new_20003033.html   \n",
       "3   ABBA                   Bang                  /a/abba/bang_20598415.html   \n",
       "4   ABBA       Bang-A-Boomerang      /a/abba/bang+a+boomerang_20002668.html   \n",
       "\n",
       "                                                text  \n",
       "0  Look at her face, it's a wonderful face  \\r\\nA...  \n",
       "1  Take it easy with me, please  \\r\\nTouch me gen...  \n",
       "2  I'll never know why I had to go  \\r\\nWhy I had...  \n",
       "3  Making somebody happy is a question of give an...  \n",
       "4  Making somebody happy is a question of give an...  "
      ]
     },
     "execution_count": 3,
     "metadata": {},
     "output_type": "execute_result"
    }
   ],
   "source": [
    "df.head(5)"
   ]
  },
  {
   "cell_type": "code",
   "execution_count": 4,
   "id": "c246c8e7-db46-4d52-a553-f0025f09cbde",
   "metadata": {},
   "outputs": [
    {
     "data": {
      "text/html": [
       "<div>\n",
       "<style scoped>\n",
       "    .dataframe tbody tr th:only-of-type {\n",
       "        vertical-align: middle;\n",
       "    }\n",
       "\n",
       "    .dataframe tbody tr th {\n",
       "        vertical-align: top;\n",
       "    }\n",
       "\n",
       "    .dataframe thead th {\n",
       "        text-align: right;\n",
       "    }\n",
       "</style>\n",
       "<table border=\"1\" class=\"dataframe\">\n",
       "  <thead>\n",
       "    <tr style=\"text-align: right;\">\n",
       "      <th></th>\n",
       "      <th>artist</th>\n",
       "      <th>song</th>\n",
       "      <th>link</th>\n",
       "      <th>text</th>\n",
       "    </tr>\n",
       "  </thead>\n",
       "  <tbody>\n",
       "    <tr>\n",
       "      <th>57645</th>\n",
       "      <td>Ziggy Marley</td>\n",
       "      <td>Good Old Days</td>\n",
       "      <td>/z/ziggy+marley/good+old+days_10198588.html</td>\n",
       "      <td>Irie days come on play  \\r\\nLet the angels fly...</td>\n",
       "    </tr>\n",
       "    <tr>\n",
       "      <th>57646</th>\n",
       "      <td>Ziggy Marley</td>\n",
       "      <td>Hand To Mouth</td>\n",
       "      <td>/z/ziggy+marley/hand+to+mouth_20531167.html</td>\n",
       "      <td>Power to the workers  \\r\\nMore power  \\r\\nPowe...</td>\n",
       "    </tr>\n",
       "    <tr>\n",
       "      <th>57647</th>\n",
       "      <td>Zwan</td>\n",
       "      <td>Come With Me</td>\n",
       "      <td>/z/zwan/come+with+me_20148981.html</td>\n",
       "      <td>all you need  \\r\\nis something i'll believe  \\...</td>\n",
       "    </tr>\n",
       "    <tr>\n",
       "      <th>57648</th>\n",
       "      <td>Zwan</td>\n",
       "      <td>Desire</td>\n",
       "      <td>/z/zwan/desire_20148986.html</td>\n",
       "      <td>northern star  \\r\\nam i frightened  \\r\\nwhere ...</td>\n",
       "    </tr>\n",
       "    <tr>\n",
       "      <th>57649</th>\n",
       "      <td>Zwan</td>\n",
       "      <td>Heartsong</td>\n",
       "      <td>/z/zwan/heartsong_20148991.html</td>\n",
       "      <td>come in  \\r\\nmake yourself at home  \\r\\ni'm a ...</td>\n",
       "    </tr>\n",
       "  </tbody>\n",
       "</table>\n",
       "</div>"
      ],
      "text/plain": [
       "             artist           song  \\\n",
       "57645  Ziggy Marley  Good Old Days   \n",
       "57646  Ziggy Marley  Hand To Mouth   \n",
       "57647          Zwan   Come With Me   \n",
       "57648          Zwan         Desire   \n",
       "57649          Zwan      Heartsong   \n",
       "\n",
       "                                              link  \\\n",
       "57645  /z/ziggy+marley/good+old+days_10198588.html   \n",
       "57646  /z/ziggy+marley/hand+to+mouth_20531167.html   \n",
       "57647           /z/zwan/come+with+me_20148981.html   \n",
       "57648                 /z/zwan/desire_20148986.html   \n",
       "57649              /z/zwan/heartsong_20148991.html   \n",
       "\n",
       "                                                    text  \n",
       "57645  Irie days come on play  \\r\\nLet the angels fly...  \n",
       "57646  Power to the workers  \\r\\nMore power  \\r\\nPowe...  \n",
       "57647  all you need  \\r\\nis something i'll believe  \\...  \n",
       "57648  northern star  \\r\\nam i frightened  \\r\\nwhere ...  \n",
       "57649  come in  \\r\\nmake yourself at home  \\r\\ni'm a ...  "
      ]
     },
     "execution_count": 4,
     "metadata": {},
     "output_type": "execute_result"
    }
   ],
   "source": [
    "df.tail(5)"
   ]
  },
  {
   "cell_type": "code",
   "execution_count": 5,
   "id": "1bb61fb3-3d35-4b88-a742-4adc41c3a518",
   "metadata": {},
   "outputs": [
    {
     "data": {
      "text/plain": [
       "(57650, 4)"
      ]
     },
     "execution_count": 5,
     "metadata": {},
     "output_type": "execute_result"
    }
   ],
   "source": [
    "df.shape"
   ]
  },
  {
   "cell_type": "code",
   "execution_count": 6,
   "id": "738d1feb-b474-4bb0-8eac-15ad33e73f00",
   "metadata": {},
   "outputs": [
    {
     "data": {
      "text/plain": [
       "artist    0\n",
       "song      0\n",
       "link      0\n",
       "text      0\n",
       "dtype: int64"
      ]
     },
     "execution_count": 6,
     "metadata": {},
     "output_type": "execute_result"
    }
   ],
   "source": [
    "df.isnull().sum()"
   ]
  },
  {
   "cell_type": "code",
   "execution_count": 7,
   "id": "2bc16246-7749-4af7-8cf3-d850e2a4bd15",
   "metadata": {},
   "outputs": [
    {
     "name": "stdout",
     "output_type": "stream",
     "text": [
      "Index(['artist', 'song', 'link', 'text'], dtype='object')\n"
     ]
    }
   ],
   "source": [
    "print(df.columns)\n"
   ]
  },
  {
   "cell_type": "code",
   "execution_count": 8,
   "id": "ade1dca5-43ef-4cb2-9625-2e5fbff4a6ab",
   "metadata": {},
   "outputs": [],
   "source": [
    "df = df.sample(5000).drop('link', axis=1, errors='ignore').reset_index(drop=True)\n"
   ]
  },
  {
   "cell_type": "code",
   "execution_count": 9,
   "id": "97e09fe8-668b-4968-b48d-ffd4e7e298f7",
   "metadata": {},
   "outputs": [
    {
     "name": "stdout",
     "output_type": "stream",
     "text": [
      "(5000, 3)\n"
     ]
    }
   ],
   "source": [
    "print(df.shape)\n"
   ]
  },
  {
   "cell_type": "code",
   "execution_count": 10,
   "id": "614b458a-7f98-4d30-bc1b-2a0d0162fdde",
   "metadata": {},
   "outputs": [
    {
     "name": "stdout",
     "output_type": "stream",
     "text": [
      "'link' column does NOT exist.\n"
     ]
    }
   ],
   "source": [
    "# Check if 'link' is in the DataFrame's columns\n",
    "if 'link' in df.columns:\n",
    "    print(\"'link' column exists.\")\n",
    "else:\n",
    "    print(\"'link' column does NOT exist.\")\n",
    "\n"
   ]
  },
  {
   "cell_type": "code",
   "execution_count": 11,
   "id": "d69836f5-91b4-40a4-8b38-e6a4899ebced",
   "metadata": {},
   "outputs": [
    {
     "name": "stdout",
     "output_type": "stream",
     "text": [
      "No duplicate columns found.\n"
     ]
    }
   ],
   "source": [
    "duplicates = df.columns[df.columns.duplicated()].tolist()\n",
    "if duplicates:\n",
    "    print(\"Duplicate columns found:\", duplicates)\n",
    "else:\n",
    "    print(\"No duplicate columns found.\")\n"
   ]
  },
  {
   "cell_type": "code",
   "execution_count": 12,
   "id": "060c4226-fc3c-4ad2-948d-cc1608a9a0aa",
   "metadata": {},
   "outputs": [
    {
     "data": {
      "text/plain": [
       "(5000, 3)"
      ]
     },
     "execution_count": 12,
     "metadata": {},
     "output_type": "execute_result"
    }
   ],
   "source": [
    "df.shape"
   ]
  },
  {
   "cell_type": "code",
   "execution_count": 13,
   "id": "4deedde8-6c73-4c02-bab4-6527774384d9",
   "metadata": {},
   "outputs": [
    {
     "data": {
      "text/html": [
       "<div>\n",
       "<style scoped>\n",
       "    .dataframe tbody tr th:only-of-type {\n",
       "        vertical-align: middle;\n",
       "    }\n",
       "\n",
       "    .dataframe tbody tr th {\n",
       "        vertical-align: top;\n",
       "    }\n",
       "\n",
       "    .dataframe thead th {\n",
       "        text-align: right;\n",
       "    }\n",
       "</style>\n",
       "<table border=\"1\" class=\"dataframe\">\n",
       "  <thead>\n",
       "    <tr style=\"text-align: right;\">\n",
       "      <th></th>\n",
       "      <th>artist</th>\n",
       "      <th>song</th>\n",
       "      <th>text</th>\n",
       "    </tr>\n",
       "  </thead>\n",
       "  <tbody>\n",
       "    <tr>\n",
       "      <th>0</th>\n",
       "      <td>Stevie Wonder</td>\n",
       "      <td>Rain Your Love Down</td>\n",
       "      <td>Such a lovely world was made for you and me  \\...</td>\n",
       "    </tr>\n",
       "    <tr>\n",
       "      <th>1</th>\n",
       "      <td>Kelly Clarkson</td>\n",
       "      <td>Walk On By</td>\n",
       "      <td>Ooh, ooh  \\r\\nIf you see me walking down the s...</td>\n",
       "    </tr>\n",
       "    <tr>\n",
       "      <th>2</th>\n",
       "      <td>XTC</td>\n",
       "      <td>Neon Shuffle</td>\n",
       "      <td>Hey - what you going to do now  \\r\\nYou're sta...</td>\n",
       "    </tr>\n",
       "    <tr>\n",
       "      <th>3</th>\n",
       "      <td>Frank Sinatra</td>\n",
       "      <td>Ave Maria</td>\n",
       "      <td>Gratia plena  \\r\\nMaria, Gratia plena  \\r\\nMar...</td>\n",
       "    </tr>\n",
       "    <tr>\n",
       "      <th>4</th>\n",
       "      <td>Steely Dan</td>\n",
       "      <td>Parker's Band</td>\n",
       "      <td>Savoy sides presents a new saxophone sensation...</td>\n",
       "    </tr>\n",
       "    <tr>\n",
       "      <th>5</th>\n",
       "      <td>Old 97's</td>\n",
       "      <td>504</td>\n",
       "      <td>I was playing every Monday on Burgundy in some...</td>\n",
       "    </tr>\n",
       "    <tr>\n",
       "      <th>6</th>\n",
       "      <td>Everlast</td>\n",
       "      <td>B-Boy Punk Rock 2001</td>\n",
       "      <td>Ha Ha  \\r\\nWhitey Ford  \\r\\nX-ecutioners Style...</td>\n",
       "    </tr>\n",
       "    <tr>\n",
       "      <th>7</th>\n",
       "      <td>Lenny Kravitz</td>\n",
       "      <td>Are You Gonna Go My Way</td>\n",
       "      <td>Intro after 8  \\r\\n  \\r\\nI was born, long ago ...</td>\n",
       "    </tr>\n",
       "    <tr>\n",
       "      <th>8</th>\n",
       "      <td>Fleetwood Mac</td>\n",
       "      <td>My Heart Beat Like A Hammer</td>\n",
       "      <td>Written by jeremy spencer.  \\r\\n  \\r\\nI woke u...</td>\n",
       "    </tr>\n",
       "    <tr>\n",
       "      <th>9</th>\n",
       "      <td>Dream Theater</td>\n",
       "      <td>The Spirit Carries On</td>\n",
       "      <td>Where did we come from?  \\r\\nWhy are we here? ...</td>\n",
       "    </tr>\n",
       "  </tbody>\n",
       "</table>\n",
       "</div>"
      ],
      "text/plain": [
       "           artist                         song  \\\n",
       "0   Stevie Wonder          Rain Your Love Down   \n",
       "1  Kelly Clarkson                   Walk On By   \n",
       "2             XTC                 Neon Shuffle   \n",
       "3   Frank Sinatra                    Ave Maria   \n",
       "4      Steely Dan                Parker's Band   \n",
       "5        Old 97's                          504   \n",
       "6        Everlast         B-Boy Punk Rock 2001   \n",
       "7   Lenny Kravitz      Are You Gonna Go My Way   \n",
       "8   Fleetwood Mac  My Heart Beat Like A Hammer   \n",
       "9   Dream Theater        The Spirit Carries On   \n",
       "\n",
       "                                                text  \n",
       "0  Such a lovely world was made for you and me  \\...  \n",
       "1  Ooh, ooh  \\r\\nIf you see me walking down the s...  \n",
       "2  Hey - what you going to do now  \\r\\nYou're sta...  \n",
       "3  Gratia plena  \\r\\nMaria, Gratia plena  \\r\\nMar...  \n",
       "4  Savoy sides presents a new saxophone sensation...  \n",
       "5  I was playing every Monday on Burgundy in some...  \n",
       "6  Ha Ha  \\r\\nWhitey Ford  \\r\\nX-ecutioners Style...  \n",
       "7  Intro after 8  \\r\\n  \\r\\nI was born, long ago ...  \n",
       "8  Written by jeremy spencer.  \\r\\n  \\r\\nI woke u...  \n",
       "9  Where did we come from?  \\r\\nWhy are we here? ...  "
      ]
     },
     "execution_count": 13,
     "metadata": {},
     "output_type": "execute_result"
    }
   ],
   "source": [
    "df.head(10)"
   ]
  },
  {
   "cell_type": "code",
   "execution_count": 14,
   "id": "f8eafb6b-32e5-4551-9507-2482b01895c5",
   "metadata": {},
   "outputs": [
    {
     "data": {
      "text/plain": [
       "\"Such a lovely world was made for you and me  \\r\\nWondrous life for us to taste, touch, smell, hear, and see  \\r\\nBut one glance from outside looking at our world state  \\r\\nClearly displays we don't appreciate it at all  \\r\\n  \\r\\nRain your love down won't you rain down your love  \\r\\nLet it drench us like the sun from above  \\r\\n  \\r\\nSuch ability inside you and me  \\r\\nMade to do anything and be all we can be  \\r\\nBut one bird's eye view at us does show, oh it shows  \\r\\nThat against God's Plan we've let it go, oh no  \\r\\n  \\r\\nRain your love down won't you rain down your love  \\r\\nLet it drench us like the sun from above  \\r\\nRain your love down let it rain down today  \\r\\nSo that it may wash all our sins away  \\r\\n  \\r\\nYou'd think the signs would make a difference,  \\r\\noh, make a difference  \\r\\nYou'd think fire next time instead of rain  \\r\\nWould cause us to make a change  \\r\\nThe world has gone insane  \\r\\n  \\r\\nRain, rain your love down won't you rain down your love  \\r\\nLet it drench us like the sun from above  \\r\\nRain your love down let it rain down today  \\r\\nSo that it may wash all our sins away, let it rain  \\r\\n  \\r\\nRain your love down let it pour on us, please  \\r\\nCleansing us from hunger, hate, war, and greed  \\r\\nRain your love down, won't you let it start over again  \\r\\nSo we can live up to your Master Plan  \\r\\n  \\r\\nRain your love down oh won't you let it start  \\r\\nWash the wicked minds and the  \\r\\nI know they're sick, you know they're sick, we know they're sick at heart,\\r\\nyeah  \\r\\n  \\r\\nRain your love down won't you let it rain  \\r\\nRid this world of drugs, disease, crime, and pain  \\r\\nClear our spirits give our minds new software  \\r\\nWith your lesson on honor, respect, trust, and care  \\r\\n  \\r\\nRain your love down I beg for human sake  \\r\\nFor only you can get us out of this state  \\r\\nRain your love down rain down on all mankind  \\r\\nCause we are out of order and so out of line.\\r\\n\\r\\n\""
      ]
     },
     "execution_count": 14,
     "metadata": {},
     "output_type": "execute_result"
    }
   ],
   "source": [
    "df['text'][0]                                                                                "
   ]
  },
  {
   "cell_type": "code",
   "execution_count": 15,
   "id": "0d9e2caa-7b94-4b42-9075-b4abe3be5e35",
   "metadata": {},
   "outputs": [],
   "source": [
    "df=df.sample(5000)\n"
   ]
  },
  {
   "cell_type": "code",
   "execution_count": 16,
   "id": "09352ea9-1573-4697-a083-3b3da9f2638d",
   "metadata": {},
   "outputs": [
    {
     "data": {
      "text/plain": [
       "(5000, 3)"
      ]
     },
     "execution_count": 16,
     "metadata": {},
     "output_type": "execute_result"
    }
   ],
   "source": [
    "df.shape"
   ]
  },
  {
   "cell_type": "markdown",
   "id": "09b2d164-65d6-42bf-9419-a8b5a097ef2f",
   "metadata": {},
   "source": [
    "Text Cleaning/Text Preprocessing"
   ]
  },
  {
   "cell_type": "code",
   "execution_count": 17,
   "id": "e4e4ceea-8fe2-43f9-a1ea-21bfc52cf77d",
   "metadata": {},
   "outputs": [],
   "source": [
    "df['text']=df['text'].str.lower().replace(r'^\\w\\s','').replace(r'\\n','',regex=True)"
   ]
  },
  {
   "cell_type": "code",
   "execution_count": 18,
   "id": "25b5ac47-5cf0-41f6-84e6-cfd7c4caa19a",
   "metadata": {},
   "outputs": [
    {
     "data": {
      "text/html": [
       "<div>\n",
       "<style scoped>\n",
       "    .dataframe tbody tr th:only-of-type {\n",
       "        vertical-align: middle;\n",
       "    }\n",
       "\n",
       "    .dataframe tbody tr th {\n",
       "        vertical-align: top;\n",
       "    }\n",
       "\n",
       "    .dataframe thead th {\n",
       "        text-align: right;\n",
       "    }\n",
       "</style>\n",
       "<table border=\"1\" class=\"dataframe\">\n",
       "  <thead>\n",
       "    <tr style=\"text-align: right;\">\n",
       "      <th></th>\n",
       "      <th>artist</th>\n",
       "      <th>song</th>\n",
       "      <th>text</th>\n",
       "    </tr>\n",
       "  </thead>\n",
       "  <tbody>\n",
       "    <tr>\n",
       "      <th>4104</th>\n",
       "      <td>Bon Jovi</td>\n",
       "      <td>Lucky</td>\n",
       "      <td>she counts the days away and waits for valenti...</td>\n",
       "    </tr>\n",
       "    <tr>\n",
       "      <th>1492</th>\n",
       "      <td>Nine Inch Nails</td>\n",
       "      <td>Supernaut</td>\n",
       "      <td>practially every one of the top 40 records bei...</td>\n",
       "    </tr>\n",
       "    <tr>\n",
       "      <th>862</th>\n",
       "      <td>Fiona Apple</td>\n",
       "      <td>Sullen Girl</td>\n",
       "      <td>days like this,  \\ri don't know what to do wit...</td>\n",
       "    </tr>\n",
       "    <tr>\n",
       "      <th>1566</th>\n",
       "      <td>Squeeze</td>\n",
       "      <td>Loving You Tonight</td>\n",
       "      <td>the full moon's glowing  \\rblood red in the sk...</td>\n",
       "    </tr>\n",
       "    <tr>\n",
       "      <th>1201</th>\n",
       "      <td>Celine Dion</td>\n",
       "      <td>Alone</td>\n",
       "      <td>i hear the ticking of the clock  \\ri'm lying h...</td>\n",
       "    </tr>\n",
       "    <tr>\n",
       "      <th>...</th>\n",
       "      <td>...</td>\n",
       "      <td>...</td>\n",
       "      <td>...</td>\n",
       "    </tr>\n",
       "    <tr>\n",
       "      <th>2980</th>\n",
       "      <td>Pitbull</td>\n",
       "      <td>Daddy's Little Girl</td>\n",
       "      <td>this is for all the women  \\rthat have been st...</td>\n",
       "    </tr>\n",
       "    <tr>\n",
       "      <th>3043</th>\n",
       "      <td>Justin Bieber</td>\n",
       "      <td>So Sick</td>\n",
       "      <td>mmmm mmm yeah  \\rdo do do do do do do-do  \\roh...</td>\n",
       "    </tr>\n",
       "    <tr>\n",
       "      <th>1719</th>\n",
       "      <td>Will Smith</td>\n",
       "      <td>Momma Knows</td>\n",
       "      <td>at 17 years old i started runnin' the streets ...</td>\n",
       "    </tr>\n",
       "    <tr>\n",
       "      <th>3159</th>\n",
       "      <td>Morrissey</td>\n",
       "      <td>I Am Hated For Loving</td>\n",
       "      <td>i am hated for loving  \\ri am hated for loving...</td>\n",
       "    </tr>\n",
       "    <tr>\n",
       "      <th>116</th>\n",
       "      <td>Lil Wayne</td>\n",
       "      <td>Abortion</td>\n",
       "      <td>i see you with your palms in your pants  \\rbut...</td>\n",
       "    </tr>\n",
       "  </tbody>\n",
       "</table>\n",
       "<p>5000 rows × 3 columns</p>\n",
       "</div>"
      ],
      "text/plain": [
       "               artist                   song  \\\n",
       "4104         Bon Jovi                  Lucky   \n",
       "1492  Nine Inch Nails              Supernaut   \n",
       "862       Fiona Apple            Sullen Girl   \n",
       "1566          Squeeze     Loving You Tonight   \n",
       "1201      Celine Dion                  Alone   \n",
       "...               ...                    ...   \n",
       "2980          Pitbull    Daddy's Little Girl   \n",
       "3043    Justin Bieber                So Sick   \n",
       "1719       Will Smith            Momma Knows   \n",
       "3159        Morrissey  I Am Hated For Loving   \n",
       "116         Lil Wayne               Abortion   \n",
       "\n",
       "                                                   text  \n",
       "4104  she counts the days away and waits for valenti...  \n",
       "1492  practially every one of the top 40 records bei...  \n",
       "862   days like this,  \\ri don't know what to do wit...  \n",
       "1566  the full moon's glowing  \\rblood red in the sk...  \n",
       "1201  i hear the ticking of the clock  \\ri'm lying h...  \n",
       "...                                                 ...  \n",
       "2980  this is for all the women  \\rthat have been st...  \n",
       "3043  mmmm mmm yeah  \\rdo do do do do do do-do  \\roh...  \n",
       "1719  at 17 years old i started runnin' the streets ...  \n",
       "3159  i am hated for loving  \\ri am hated for loving...  \n",
       "116   i see you with your palms in your pants  \\rbut...  \n",
       "\n",
       "[5000 rows x 3 columns]"
      ]
     },
     "execution_count": 18,
     "metadata": {},
     "output_type": "execute_result"
    }
   ],
   "source": [
    "df\n"
   ]
  },
  {
   "cell_type": "code",
   "execution_count": 19,
   "id": "3e8f1ee7-b913-41c2-bd9a-b0c90c55c83a",
   "metadata": {},
   "outputs": [
    {
     "data": {
      "text/html": [
       "<div>\n",
       "<style scoped>\n",
       "    .dataframe tbody tr th:only-of-type {\n",
       "        vertical-align: middle;\n",
       "    }\n",
       "\n",
       "    .dataframe tbody tr th {\n",
       "        vertical-align: top;\n",
       "    }\n",
       "\n",
       "    .dataframe thead th {\n",
       "        text-align: right;\n",
       "    }\n",
       "</style>\n",
       "<table border=\"1\" class=\"dataframe\">\n",
       "  <thead>\n",
       "    <tr style=\"text-align: right;\">\n",
       "      <th></th>\n",
       "      <th>artist</th>\n",
       "      <th>song</th>\n",
       "      <th>text</th>\n",
       "    </tr>\n",
       "  </thead>\n",
       "  <tbody>\n",
       "    <tr>\n",
       "      <th>2980</th>\n",
       "      <td>Pitbull</td>\n",
       "      <td>Daddy's Little Girl</td>\n",
       "      <td>this is for all the women  \\rthat have been st...</td>\n",
       "    </tr>\n",
       "    <tr>\n",
       "      <th>3043</th>\n",
       "      <td>Justin Bieber</td>\n",
       "      <td>So Sick</td>\n",
       "      <td>mmmm mmm yeah  \\rdo do do do do do do-do  \\roh...</td>\n",
       "    </tr>\n",
       "    <tr>\n",
       "      <th>1719</th>\n",
       "      <td>Will Smith</td>\n",
       "      <td>Momma Knows</td>\n",
       "      <td>at 17 years old i started runnin' the streets ...</td>\n",
       "    </tr>\n",
       "    <tr>\n",
       "      <th>3159</th>\n",
       "      <td>Morrissey</td>\n",
       "      <td>I Am Hated For Loving</td>\n",
       "      <td>i am hated for loving  \\ri am hated for loving...</td>\n",
       "    </tr>\n",
       "    <tr>\n",
       "      <th>116</th>\n",
       "      <td>Lil Wayne</td>\n",
       "      <td>Abortion</td>\n",
       "      <td>i see you with your palms in your pants  \\rbut...</td>\n",
       "    </tr>\n",
       "  </tbody>\n",
       "</table>\n",
       "</div>"
      ],
      "text/plain": [
       "             artist                   song  \\\n",
       "2980        Pitbull    Daddy's Little Girl   \n",
       "3043  Justin Bieber                So Sick   \n",
       "1719     Will Smith            Momma Knows   \n",
       "3159      Morrissey  I Am Hated For Loving   \n",
       "116       Lil Wayne               Abortion   \n",
       "\n",
       "                                                   text  \n",
       "2980  this is for all the women  \\rthat have been st...  \n",
       "3043  mmmm mmm yeah  \\rdo do do do do do do-do  \\roh...  \n",
       "1719  at 17 years old i started runnin' the streets ...  \n",
       "3159  i am hated for loving  \\ri am hated for loving...  \n",
       "116   i see you with your palms in your pants  \\rbut...  "
      ]
     },
     "execution_count": 19,
     "metadata": {},
     "output_type": "execute_result"
    }
   ],
   "source": [
    "df.tail(5)\n"
   ]
  },
  {
   "cell_type": "code",
   "execution_count": 20,
   "id": "b1f1ffd2-b5eb-4477-b271-993ac2a36137",
   "metadata": {},
   "outputs": [
    {
     "name": "stderr",
     "output_type": "stream",
     "text": [
      "[nltk_data] Downloading package punkt to\n",
      "[nltk_data]     C:\\Users\\chata\\AppData\\Roaming\\nltk_data...\n",
      "[nltk_data]   Package punkt is already up-to-date!\n"
     ]
    },
    {
     "data": {
      "text/plain": [
       "True"
      ]
     },
     "execution_count": 20,
     "metadata": {},
     "output_type": "execute_result"
    }
   ],
   "source": [
    "import nltk\n",
    "nltk.download('punkt')\n"
   ]
  },
  {
   "cell_type": "code",
   "execution_count": 21,
   "id": "4da64913-65ca-48a9-b592-13c46170125c",
   "metadata": {},
   "outputs": [
    {
     "name": "stderr",
     "output_type": "stream",
     "text": [
      "[nltk_data] Downloading package punkt_tab to\n",
      "[nltk_data]     C:\\Users\\chata\\AppData\\Roaming\\nltk_data...\n",
      "[nltk_data]   Package punkt_tab is already up-to-date!\n"
     ]
    },
    {
     "data": {
      "text/plain": [
       "True"
      ]
     },
     "execution_count": 21,
     "metadata": {},
     "output_type": "execute_result"
    }
   ],
   "source": [
    "nltk.download('punkt_tab')\n"
   ]
  },
  {
   "cell_type": "code",
   "execution_count": 22,
   "id": "ca9dfe62-76a7-430c-9079-df03ccddb05b",
   "metadata": {},
   "outputs": [
    {
     "data": {
      "text/plain": [
       "FileSystemPathPointer('C:\\\\Users\\\\chata\\\\AppData\\\\Roaming\\\\nltk_data\\\\tokenizers\\\\punkt')"
      ]
     },
     "execution_count": 22,
     "metadata": {},
     "output_type": "execute_result"
    }
   ],
   "source": [
    "nltk.data.find('tokenizers/punkt')\n"
   ]
  },
  {
   "cell_type": "code",
   "execution_count": 23,
   "id": "38d02faf-fa69-4caa-a42e-faa553cc09ae",
   "metadata": {},
   "outputs": [
    {
     "name": "stdout",
     "output_type": "stream",
     "text": [
      "you are beauti\n"
     ]
    }
   ],
   "source": [
    "import nltk\n",
    "from nltk.stem import PorterStemmer\n",
    "\n",
    "# Initialize your stemmer\n",
    "stemmer = PorterStemmer()\n",
    "\n",
    "# Define the token function\n",
    "def token(txt):\n",
    "    tokenized = nltk.word_tokenize(txt)  # Tokenize the input text\n",
    "    stemmed_words = [stemmer.stem(w) for w in tokenized]  # Stem each tokenized word\n",
    "    return \" \".join(stemmed_words)  # Join stemmed words back into a string and return\n",
    "\n",
    "# Example usage\n",
    "try:\n",
    "    result = token(\"You are beautiful\")\n",
    "    print(result)  # Output should display the stemmed version of the input\n",
    "except LookupError as e:\n",
    "    print(\"Error:\", e)\n"
   ]
  },
  {
   "cell_type": "code",
   "execution_count": 24,
   "id": "f57fca47-637f-4f1c-9461-3e0edc22c20e",
   "metadata": {},
   "outputs": [
    {
     "data": {
      "text/plain": [
       "4104    she count the day away and wait for valentin s...\n",
       "1492    practial everi one of the top 40 record be pla...\n",
       "862     day like thi , i do n't know what to do with m...\n",
       "1566    the full moon 's glow blood red in the sky it ...\n",
       "1201    i hear the tick of the clock i 'm lie here the...\n",
       "                              ...                        \n",
       "2980    thi is for all the women that have been strip ...\n",
       "3043    mmmm mmm yeah do do do do do do do-do ohh yeah...\n",
       "1719    at 17 year old i start runnin ' the street man...\n",
       "3159    i am hate for love i am hate for love anonym c...\n",
       "116     i see you with your palm in your pant but me ,...\n",
       "Name: text, Length: 5000, dtype: object"
      ]
     },
     "execution_count": 24,
     "metadata": {},
     "output_type": "execute_result"
    }
   ],
   "source": [
    "df['text'].apply(lambda x: token(x))"
   ]
  },
  {
   "cell_type": "code",
   "execution_count": 25,
   "id": "062d5feb-315f-4606-92e6-1a87662caa95",
   "metadata": {},
   "outputs": [],
   "source": [
    "from sklearn.feature_extraction.text import TfidfVectorizer\n",
    "from sklearn.metrics.pairwise import cosine_similarity"
   ]
  },
  {
   "cell_type": "code",
   "execution_count": 26,
   "id": "1689252b-0442-415c-9eac-e85c11f088a1",
   "metadata": {},
   "outputs": [],
   "source": [
    "tfid = TfidfVectorizer(analyzer='word',stop_words='english')"
   ]
  },
  {
   "cell_type": "code",
   "execution_count": 27,
   "id": "36852d91-19b2-45fd-b5c8-f4e59cd3f70d",
   "metadata": {},
   "outputs": [],
   "source": [
    "matrix = tfid.fit_transform(df['text'])"
   ]
  },
  {
   "cell_type": "code",
   "execution_count": 28,
   "id": "e7c7dcee-e450-4036-9a80-9a14dc7b8664",
   "metadata": {},
   "outputs": [],
   "source": [
    "similar = cosine_similarity(matrix)"
   ]
  },
  {
   "cell_type": "code",
   "execution_count": 29,
   "id": "1b7f1216-d0a3-4a40-8af9-fcc7fd97fddd",
   "metadata": {},
   "outputs": [
    {
     "data": {
      "text/plain": [
       "array([1.        , 0.00235199, 0.0145309 , ..., 0.01019698, 0.00257075,\n",
       "       0.01167083])"
      ]
     },
     "execution_count": 29,
     "metadata": {},
     "output_type": "execute_result"
    }
   ],
   "source": [
    "similar[0]"
   ]
  },
  {
   "cell_type": "code",
   "execution_count": 32,
   "id": "3299e46c-be7b-4ab6-a178-a5437b583b23",
   "metadata": {},
   "outputs": [
    {
     "data": {
      "text/plain": [
       "np.int64(3043)"
      ]
     },
     "execution_count": 32,
     "metadata": {},
     "output_type": "execute_result"
    }
   ],
   "source": [
    "df[df['song']=='So Sick'].index[0]"
   ]
  },
  {
   "cell_type": "markdown",
   "id": "7f25005f-7198-41b0-8feb-204b6ca64527",
   "metadata": {},
   "source": [
    "Recommender Function"
   ]
  },
  {
   "cell_type": "code",
   "execution_count": null,
   "id": "e1cd4731-a721-4531-ae02-118930be584e",
   "metadata": {},
   "outputs": [],
   "source": [
    "def recommender(song_name):\n",
    "    idx = df[df['song']==song_name].index[0]\n",
    "    distance=sorted(list(enumerate(similar[idx])), reverse=True, key=lambda x:x[1])\n",
    "    song = []\n",
    "    for s_id in distance[1:21]:\n",
    "        song.append(df.iloc[s_id[0]].song)\n",
    "    return song"
   ]
  },
  {
   "cell_type": "code",
   "execution_count": null,
   "id": "1f6ac4c5-7b69-4da9-a0c9-003ba0497505",
   "metadata": {},
   "outputs": [],
   "source": [
    "recommender(\"Heat Wave\")"
   ]
  },
  {
   "cell_type": "code",
   "execution_count": 34,
   "id": "dd71fbe9-f575-4ebe-a144-ff6e663ebb63",
   "metadata": {},
   "outputs": [],
   "source": [
    "import pickle"
   ]
  },
  {
   "cell_type": "code",
   "execution_count": 35,
   "id": "fd6c450d-29ea-4131-bbf2-cf70ffbf4016",
   "metadata": {},
   "outputs": [],
   "source": [
    "pickle.dump(similar,open(\"similarity\",\"wb\"))"
   ]
  },
  {
   "cell_type": "code",
   "execution_count": 37,
   "id": "f149e67d-c8a1-40a6-93c3-73f99675098f",
   "metadata": {},
   "outputs": [],
   "source": [
    "pickle.dump(df,open(\"df\",\"wb\"))"
   ]
  },
  {
   "cell_type": "code",
   "execution_count": null,
   "id": "1d2f2f12-4670-49f7-a130-05ee18418e61",
   "metadata": {},
   "outputs": [],
   "source": []
  }
 ],
 "metadata": {
  "kernelspec": {
   "display_name": "Python 3 (ipykernel)",
   "language": "python",
   "name": "python3"
  },
  "language_info": {
   "codemirror_mode": {
    "name": "ipython",
    "version": 3
   },
   "file_extension": ".py",
   "mimetype": "text/x-python",
   "name": "python",
   "nbconvert_exporter": "python",
   "pygments_lexer": "ipython3",
   "version": "3.12.3"
  }
 },
 "nbformat": 4,
 "nbformat_minor": 5
}
